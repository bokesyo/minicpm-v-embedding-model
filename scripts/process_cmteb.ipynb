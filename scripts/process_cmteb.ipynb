{
 "cells": [
  {
   "cell_type": "code",
   "execution_count": null,
   "metadata": {},
   "outputs": [],
   "source": [
    "import pandas as pd\n",
    "import json \n",
    "from fastparquet import ParquetFile\n",
    "import jsonlines\n",
    "import os\n",
    "\n",
    "datasets_path = '/data/WorkSpace/openbmb/dataset/light_beir_eval_c'\n",
    "# read all dataset dirs\n",
    "ls = os.listdir(datasets_path)\n",
    "for dataset in ls:\n",
    "    dataset_path = os.path.join(datasets_path, dataset,'data')\n",
    "    ls_on_dataset_path = os.listdir(dataset_path)\n",
    "    for fl in ls_on_dataset_path:\n",
    "        fl_path = os.path.join(dataset_path, fl)\n",
    "        if fl.endswith('.parquet'):\n",
    "            pf_path = fl_path\n",
    "            pf = ParquetFile(pf_path)\n",
    "            df = pf.to_pandas()\n",
    "            df.rename(columns={'id':'_id'}, inplace=True)\n",
    "            # to jsonl\n",
    "            prefix = fl.split('-')[0]\n",
    "            df.to_json(dataset_path +'/' + prefix + '.jsonl'\n",
    "                       , orient='records',index=False, lines=True,force_ascii=False)\n",
    "    tsv_path = os.path.join(datasets_path,dataset, dataset+'-qrels', 'data')\n",
    "    ls_on_tsv_path = os.listdir(tsv_path)\n",
    "    for fl in ls_on_tsv_path:\n",
    "        if fl.endswith('.parquet'):\n",
    "            fl_path = os.path.join(tsv_path, fl)\n",
    "            pf = ParquetFile(fl_path)\n",
    "            df = pf.to_pandas()\n",
    "            df.rename(columns={'qid':'query-id','pid':'corpus-id'}, inplace=True)\n",
    "            prefix = fl.split('-')[0]\n",
    "            df.to_csv(tsv_path +'/' +'test.tsv'\n",
    "                       , sep='\\t', index=False)"
   ]
  },
  {
   "cell_type": "code",
   "execution_count": 12,
   "metadata": {},
   "outputs": [
    {
     "name": "stdout",
     "output_type": "stream",
     "text": [
      "0\n",
      "0\n",
      "0\n",
      "0\n",
      "0\n"
     ]
    }
   ],
   "source": [
    "import pandas as pd\n",
    "import json \n",
    "import jsonlines\n",
    "import os\n",
    "\n",
    "datasets_path = '/data/WorkSpace/openbmb/dataset/light_beir_eval_c_test'\n",
    "# read all dataset dirs\n",
    "ls = os.listdir(datasets_path)\n",
    "for dataset in ls:\n",
    "    corpus_path = os.path.join(datasets_path, dataset, 'corpus.jsonl')\n",
    "    query_path = os.path.join(datasets_path, dataset, 'queries.jsonl')\n",
    "    tsv_path = os.path.join(datasets_path, dataset, 'qrels', 'test.tsv')\n",
    "    df = pd.read_csv(tsv_path, sep='\\t', header=None, names=['query_id', 'corpus_id', 'label'])\n",
    "    # find if query and corpus have same id\n",
    "    \n",
    "    df['are_columns_equal'] = df['query_id'] == df['corpus_id']\n",
    "    print(df['are_columns_equal'].sum(),line)\n",
    "    \n",
    "    q_ids = set()\n",
    "    for line in jsonlines.open(query_path):\n",
    "        q_ids.add(line['_id'])\n",
    "    p_ids = set()\n",
    "    for line in jsonlines.open(corpus_path):\n",
    "        p_ids.add(line['_id'])\n",
    "    \n",
    "    print(len(q_ids & p_ids), dataset)\n",
    "    if len(q_ids & p_ids):\n",
    "        and_id = list(q_ids & p_ids)[0]\n",
    "        with open(os.path.join(datasets_path, dataset, 'queries.jsonl'), 'r') as f:\n",
    "            for line in f:\n",
    "                line = json.loads(line)\n",
    "                if line['_id'] == and_id:\n",
    "                    print(line)\n",
    "                    break\n",
    "        with open(os.path.join(datasets_path, dataset, 'corpus.jsonl'), 'r') as f:\n",
    "            for line in f:\n",
    "                line = json.loads(line)\n",
    "                if line['_id'] == and_id:\n",
    "                    print(line)\n",
    "                    break\n",
    "        "
   ]
  }
 ],
 "metadata": {
  "kernelspec": {
   "display_name": "openmatch",
   "language": "python",
   "name": "python3"
  },
  "language_info": {
   "codemirror_mode": {
    "name": "ipython",
    "version": 3
   },
   "file_extension": ".py",
   "mimetype": "text/x-python",
   "name": "python",
   "nbconvert_exporter": "python",
   "pygments_lexer": "ipython3",
   "version": "3.10.13"
  }
 },
 "nbformat": 4,
 "nbformat_minor": 2
}
